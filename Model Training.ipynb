{
 "cells": [
  {
   "cell_type": "code",
   "execution_count": 1,
   "metadata": {},
   "outputs": [],
   "source": [
    "import os\n",
    "from PIL import Image\n",
    "import numpy as np\n",
    "import pandas as pd\n",
    "import matplotlib.pyplot as plt\n",
    "import tensorflow as tf\n",
    "import tensorflow.keras as keras\n",
    "from sklearn.metrics import accuracy_score\n",
    "from tensorflow.keras.preprocessing.image import ImageDataGenerator"
   ]
  },
  {
   "cell_type": "code",
   "execution_count": 2,
   "metadata": {},
   "outputs": [],
   "source": [
    "train_datagen = ImageDataGenerator(\n",
    "        rescale=1./255,\n",
    "        shear_range=0.2,\n",
    "        zoom_range=0.2,\n",
    "        horizontal_flip=True)\n",
    "\n",
    "test_datagen = ImageDataGenerator(rescale=1./255)"
   ]
  },
  {
   "cell_type": "code",
   "execution_count": 3,
   "metadata": {},
   "outputs": [],
   "source": [
    "sz = 128"
   ]
  },
  {
   "cell_type": "code",
   "execution_count": 4,
   "metadata": {},
   "outputs": [
    {
     "name": "stdout",
     "output_type": "stream",
     "text": [
      "Found 12845 images belonging to 27 classes.\n",
      "Found 4262 images belonging to 27 classes.\n",
      "Wall time: 2.71 s\n"
     ]
    }
   ],
   "source": [
    "%%time\n",
    "test_datagen = ImageDataGenerator(rescale=1./255)\n",
    "\n",
    "training_set = train_datagen.flow_from_directory('train',\n",
    "                                                 target_size=(sz, sz),\n",
    "                                                 batch_size=10,\n",
    "                                                 color_mode='grayscale',\n",
    "                                                 class_mode='categorical')\n",
    "\n",
    "test_set = test_datagen.flow_from_directory('test',\n",
    "                                            target_size=(sz , sz),\n",
    "                                            batch_size=10,\n",
    "                                            color_mode='grayscale',\n",
    "                                            class_mode='categorical') "
   ]
  },
  {
   "cell_type": "markdown",
   "metadata": {},
   "source": [
    "## Model"
   ]
  },
  {
   "cell_type": "code",
   "execution_count": 8,
   "metadata": {},
   "outputs": [
    {
     "name": "stdout",
     "output_type": "stream",
     "text": [
      "Model: \"sequential_1\"\n",
      "_________________________________________________________________\n",
      "Layer (type)                 Output Shape              Param #   \n",
      "=================================================================\n",
      "conv2d_3 (Conv2D)            (None, 126, 126, 36)      360       \n",
      "_________________________________________________________________\n",
      "max_pooling2d_3 (MaxPooling2 (None, 63, 63, 36)        0         \n",
      "_________________________________________________________________\n",
      "conv2d_4 (Conv2D)            (None, 61, 61, 36)        11700     \n",
      "_________________________________________________________________\n",
      "max_pooling2d_4 (MaxPooling2 (None, 30, 30, 36)        0         \n",
      "_________________________________________________________________\n",
      "conv2d_5 (Conv2D)            (None, 28, 28, 36)        11700     \n",
      "_________________________________________________________________\n",
      "max_pooling2d_5 (MaxPooling2 (None, 14, 14, 36)        0         \n",
      "_________________________________________________________________\n",
      "flatten_1 (Flatten)          (None, 7056)              0         \n",
      "_________________________________________________________________\n",
      "dense_4 (Dense)              (None, 156)               1100892   \n",
      "_________________________________________________________________\n",
      "dropout_2 (Dropout)          (None, 156)               0         \n",
      "_________________________________________________________________\n",
      "dense_5 (Dense)              (None, 96)                15072     \n",
      "_________________________________________________________________\n",
      "dropout_3 (Dropout)          (None, 96)                0         \n",
      "_________________________________________________________________\n",
      "dense_6 (Dense)              (None, 64)                6208      \n",
      "_________________________________________________________________\n",
      "dense_7 (Dense)              (None, 27)                1755      \n",
      "=================================================================\n",
      "Total params: 1,147,687\n",
      "Trainable params: 1,147,687\n",
      "Non-trainable params: 0\n",
      "_________________________________________________________________\n"
     ]
    }
   ],
   "source": [
    "# build network topology\n",
    "model = keras.Sequential([\n",
    "\n",
    "    # 1st convolution and maxpooling layer\n",
    "    keras.layers.Conv2D(36, (3, 3), input_shape=(128,128,1), activation='relu'),\n",
    "    keras.layers.MaxPooling2D(pool_size=(2,2)),\n",
    "    \n",
    "    # 2nd convolution and maxpooling layer\n",
    "    keras.layers.Conv2D(36, (3, 3), activation='relu'),\n",
    "    keras.layers.MaxPooling2D(pool_size=(2,2)),\n",
    "    \n",
    "    # 3rd convolution and maxpooling layer\n",
    "    keras.layers.Conv2D(36, (3, 3), activation='relu'),\n",
    "    keras.layers.MaxPooling2D(pool_size=(2,2)),\n",
    "    \n",
    "    # Flattening\n",
    "    keras.layers.Flatten(),\n",
    "\n",
    "    # full connection layers\n",
    "#     keras.layers.Dense(1024, activation='relu'),\n",
    "#     keras.layers.Dropout(0.2),\n",
    "    keras.layers.Dense(156, activation='relu'),\n",
    "    keras.layers.Dropout(0.35),\n",
    "    keras.layers.Dense(96, activation='relu'),\n",
    "    keras.layers.Dropout(0.35),\n",
    "    keras.layers.Dense(64, activation='relu'),\n",
    "    \n",
    "    # Output layer\n",
    "    keras.layers.Dense(27, activation='softmax')\n",
    "])\n",
    "\n",
    "# compile model\n",
    "optimiser = keras.optimizers.Adam(learning_rate=0.001)\n",
    "model.compile(optimizer=optimiser,\n",
    "              loss='categorical_crossentropy',\n",
    "              metrics=['accuracy'])\n",
    "\n",
    "model.summary()"
   ]
  },
  {
   "cell_type": "code",
   "execution_count": 9,
   "metadata": {},
   "outputs": [
    {
     "data": {
      "text/plain": [
       "(128, 128)"
      ]
     },
     "execution_count": 9,
     "metadata": {},
     "output_type": "execute_result"
    }
   ],
   "source": [
    "training_set.target_size"
   ]
  },
  {
   "cell_type": "code",
   "execution_count": 10,
   "metadata": {},
   "outputs": [
    {
     "name": "stdout",
     "output_type": "stream",
     "text": [
      "Epoch 1/5\n",
      "   1/1285 [..............................] - ETA: 19s - loss: 3.2810 - accuracy: 0.0000e+00WARNING:tensorflow:Callbacks method `on_train_batch_end` is slow compared to the batch time (batch time: 0.0100s vs `on_train_batch_end` time: 0.0150s). Check your callbacks.\n",
      "1285/1285 [==============================] - 330s 257ms/step - loss: 1.4763 - accuracy: 0.5428 - val_loss: 0.0811 - val_accuracy: 0.9833\n",
      "Epoch 2/5\n",
      "1285/1285 [==============================] - 174s 135ms/step - loss: 0.3499 - accuracy: 0.8863 - val_loss: 0.0352 - val_accuracy: 0.9920\n",
      "Epoch 3/5\n",
      "1285/1285 [==============================] - 121s 94ms/step - loss: 0.2029 - accuracy: 0.9309 - val_loss: 0.0335 - val_accuracy: 0.9901\n",
      "Epoch 4/5\n",
      "1285/1285 [==============================] - 160s 124ms/step - loss: 0.1504 - accuracy: 0.9527 - val_loss: 0.0076 - val_accuracy: 0.9977\n",
      "Epoch 5/5\n",
      "1285/1285 [==============================] - 136s 106ms/step - loss: 0.1134 - accuracy: 0.9636 - val_loss: 0.0087 - val_accuracy: 0.9974\n",
      "Wall time: 15min 22s\n"
     ]
    },
    {
     "data": {
      "text/plain": [
       "<tensorflow.python.keras.callbacks.History at 0x2552d90fba8>"
      ]
     },
     "execution_count": 10,
     "metadata": {},
     "output_type": "execute_result"
    }
   ],
   "source": [
    "%%time\n",
    "\n",
    "# model.fit_generator(\n",
    "#         training_set,\n",
    "#         steps_per_epoch=12841, # No of images in training set\n",
    "#         epochs=5,\n",
    "#         validation_data=test_set,\n",
    "#         validation_steps=4268)# No of images in test set\n",
    "\n",
    "model.fit(training_set, validation_data=test_set, epochs=5)\n",
    "\n",
    "# train model\n",
    "# model.fit(x_train, y_train, validation_data=(x_test, y_test), batch_size=10, epochs=2)"
   ]
  },
  {
   "cell_type": "markdown",
   "metadata": {},
   "source": [
    "## Save Model"
   ]
  },
  {
   "cell_type": "code",
   "execution_count": 14,
   "metadata": {},
   "outputs": [
    {
     "name": "stdout",
     "output_type": "stream",
     "text": [
      "Model Saved\n",
      "Weights saved\n"
     ]
    }
   ],
   "source": [
    "# Saving the model\n",
    "model_json = model.to_json()\n",
    "with open(\"model-bw.json\", \"w\") as json_file:\n",
    "    json_file.write(model_json)\n",
    "print('Model Saved')\n",
    "model.save_weights('model-bw.h5')\n",
    "print('Weights saved')"
   ]
  }
 ],
 "metadata": {
  "kernelspec": {
   "display_name": "Python 3",
   "language": "python",
   "name": "python3"
  },
  "language_info": {
   "codemirror_mode": {
    "name": "ipython",
    "version": 3
   },
   "file_extension": ".py",
   "mimetype": "text/x-python",
   "name": "python",
   "nbconvert_exporter": "python",
   "pygments_lexer": "ipython3",
   "version": "3.7.0"
  }
 },
 "nbformat": 4,
 "nbformat_minor": 4
}
